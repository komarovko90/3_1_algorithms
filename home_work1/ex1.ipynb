{
 "cells": [
  {
   "cell_type": "markdown",
   "metadata": {},
   "source": [
    "### Д/З"
   ]
  },
  {
   "cell_type": "markdown",
   "metadata": {},
   "source": [
    "1. Подберите скорость обучения (alpha) и количество итераций"
   ]
  },
  {
   "cell_type": "code",
   "execution_count": 1,
   "metadata": {},
   "outputs": [],
   "source": [
    "import numpy as np\n",
    "import matplotlib.pyplot as plt"
   ]
  },
  {
   "cell_type": "code",
   "execution_count": 2,
   "metadata": {},
   "outputs": [],
   "source": [
    "X = np.array([[1, 1, 1, 1, 1, 1, 1, 1, 1, 1],\n",
    "              [1, 1, 2, 5, 3, 0, 5, 10, 1, 2]])"
   ]
  },
  {
   "cell_type": "code",
   "execution_count": 3,
   "metadata": {},
   "outputs": [],
   "source": [
    "y = [45, 55, 50, 55, 60, 35, 75, 80, 50, 60]"
   ]
  },
  {
   "cell_type": "code",
   "execution_count": 4,
   "metadata": {},
   "outputs": [],
   "source": [
    "def calc_mae(y, y_pred):\n",
    "    err = np.mean(np.abs(y - y_pred))\n",
    "    return err\n",
    "\n",
    "def calc_mse(y, y_pred):\n",
    "    err = np.mean((y - y_pred)**2) # <=> 1/n * np.sum((y_pred - y)**2)\n",
    "    return err"
   ]
  },
  {
   "cell_type": "code",
   "execution_count": 15,
   "metadata": {},
   "outputs": [
    {
     "name": "stdout",
     "output_type": "stream",
     "text": [
      "Number of objects = 10        \n",
      "Learning rate = 0.01        \n",
      "Initial weights = [1.  0.5] \n",
      "\n",
      "Iteration #0: W_new = [2.08 4.27], MSE = 3047.75\n",
      "Iteration #10: W_new = [ 6.67106886 10.61676385], MSE = 749.70987\n",
      "Iteration #20: W_new = [ 9.76271412 10.21019379], MSE = 640.69245\n",
      "Iteration #30: W_new = [12.58308587  9.70206849], MSE = 549.16424\n",
      "Iteration #40: W_new = [15.17763745  9.2316575 ], MSE = 471.67535\n",
      "Iteration #50: W_new = [17.56491831  8.79876244], MSE = 406.07201\n",
      "Iteration #60: W_new = [19.76149672  8.40044685], MSE = 350.53117\n",
      "Iteration #70: W_new = [21.78260672  8.03394971], MSE = 303.50941\n",
      "Iteration #80: W_new = [23.6422652   7.69672932], MSE = 263.70003\n",
      "Iteration #90: W_new = [25.35336931  7.38644697], MSE = 229.99677\n",
      "Iteration #100: W_new = [26.92778597  7.10095078], MSE = 201.46306\n",
      "Iteration #110: W_new = [28.37643414  6.83826077], MSE = 177.30595\n",
      "Iteration #120: W_new = [29.70936051  6.59655513], MSE = 156.85416\n",
      "Iteration #130: W_new = [30.93580926  6.37415756], MSE = 139.53935\n",
      "Iteration #140: W_new = [32.06428609  6.16952568], MSE = 124.88035\n",
      "Iteration #150: W_new = [33.10261725  5.98124034], MSE = 112.46981\n",
      "Iteration #160: W_new = [34.05800382  5.80799571], MSE = 101.96284\n",
      "Iteration #170: W_new = [34.93707162  5.64859032], MSE = 93.06748\n",
      "Iteration #180: W_new = [35.74591719  5.50191865], MSE = 85.53652\n",
      "Iteration #190: W_new = [36.49015008  5.36696349], MSE = 79.16069\n",
      "Iteration #200: W_new = [37.17493171  5.2427889 ], MSE = 73.76281\n",
      "Iteration #210: W_new = [37.74966424  5.13857001], MSE = 69.54019\n",
      "Iteration #220: W_new = [38.28251853  5.0419451 ], MSE = 65.9494\n",
      "Iteration #230: W_new = [38.77654606  4.95236083], MSE = 62.86284\n",
      "Iteration #240: W_new = [39.23457598  4.86930417], MSE = 60.2097\n",
      "Iteration #250: W_new = [39.65923126  4.79229948], MSE = 57.92911\n",
      "Iteration #260: W_new = [40.05294377  4.72090578], MSE = 55.96877\n",
      "Iteration #270: W_new = [40.41796818  4.65471424], MSE = 54.28371\n",
      "Iteration #280: W_new = [40.75639485  4.59334578], MSE = 52.83526\n",
      "Iteration #290: W_new = [41.07016186  4.53644897], MSE = 51.59021\n",
      "Iteration #300: W_new = [41.36106604  4.48369798], MSE = 50.51999\n",
      "Iteration #310: W_new = [41.63077331  4.43479072], MSE = 49.60005\n",
      "Iteration #320: W_new = [41.8808282   4.38944713], MSE = 48.8093\n",
      "Iteration #330: W_new = [42.11266268  4.34740752], MSE = 48.12958\n",
      "Iteration #340: W_new = [42.32760439  4.30843115], MSE = 47.54531\n",
      "Iteration #350: W_new = [42.52688425  4.27229482], MSE = 47.04308\n",
      "Iteration #360: W_new = [42.71164346  4.23879159], MSE = 46.61138\n",
      "Iteration #370: W_new = [42.88294007  4.20772959], MSE = 46.24029\n",
      "Iteration #380: W_new = [43.04175505  4.17893094], MSE = 45.92132\n",
      "Iteration #390: W_new = [43.18899788  4.15223072], MSE = 45.64714\n",
      "Iteration #400: W_new = [43.32551177  4.12747604], MSE = 45.41145\n",
      "Iteration #410: W_new = [43.44092558  4.10654752], MSE = 45.22437\n",
      "Iteration #420: W_new = [43.54867074  4.0870096 ], MSE = 45.06305\n",
      "Iteration #430: W_new = [43.6492568   4.06876986], MSE = 44.92246\n",
      "Iteration #440: W_new = [43.74315944  4.05174207], MSE = 44.79994\n",
      "Iteration #450: W_new = [43.83082274  4.03584568], MSE = 44.69315\n",
      "Iteration #460: W_new = [43.91266127  4.02100552], MSE = 44.60008\n",
      "Iteration #470: W_new = [43.98906206  4.00715142], MSE = 44.51897\n",
      "Iteration #480: W_new = [44.06038642  3.99421785], MSE = 44.44828\n",
      "Iteration #490: W_new = [44.12697164  3.98214364], MSE = 44.38667\n",
      "Iteration #500: W_new = [44.18913262  3.97087171], MSE = 44.33298\n",
      "Iteration #510: W_new = [44.24716333  3.96034873], MSE = 44.28619\n",
      "Iteration #520: W_new = [44.3013382   3.95052496], MSE = 44.2454\n",
      "Iteration #530: W_new = [44.35191343  3.94135392], MSE = 44.20986\n",
      "Iteration #540: W_new = [44.3991282   3.93279225], MSE = 44.17888\n",
      "Iteration #550: W_new = [44.4432058   3.92479945], MSE = 44.15189\n",
      "Iteration #560: W_new = [44.48435467  3.91733774], MSE = 44.12836\n",
      "Iteration #570: W_new = [44.52276941  3.91037182], MSE = 44.10785\n",
      "Iteration #580: W_new = [44.5586317   3.90386875], MSE = 44.08998\n",
      "Iteration #590: W_new = [44.59211112  3.89779777], MSE = 44.07441\n",
      "Iteration #600: W_new = [44.62336601  3.89213018], MSE = 44.06083\n",
      "Iteration #610: W_new = [44.64996565  3.88730674], MSE = 44.04991\n",
      "Iteration #620: W_new = [44.67495408  3.88277548], MSE = 44.04038\n",
      "Iteration #630: W_new = [44.69842889  3.87851868], MSE = 44.03196\n",
      "Iteration #640: W_new = [44.72048176  3.87451974], MSE = 44.02454\n",
      "Iteration #650: W_new = [44.74119882  3.87076302], MSE = 44.01798\n",
      "Iteration #660: W_new = [44.76066098  3.86723385], MSE = 44.0122\n",
      "Iteration #670: W_new = [44.77894427  3.86391846], MSE = 44.0071\n",
      "Iteration #680: W_new = [44.79612008  3.86080389], MSE = 44.00259\n",
      "Iteration #690: W_new = [44.8122555   3.85787798], MSE = 43.99862\n",
      "Iteration #700: W_new = [44.82741355  3.8551293 ], MSE = 43.99511\n",
      "Iteration #710: W_new = [44.84165344  3.85254712], MSE = 43.99201\n",
      "Iteration #720: W_new = [44.85503077  3.85012135], MSE = 43.98928\n",
      "Iteration #730: W_new = [44.8675978   3.84784251], MSE = 43.98687\n",
      "Iteration #740: W_new = [44.8794036   3.84570171], MSE = 43.98474\n",
      "Iteration #750: W_new = [44.89049429  3.84369058], MSE = 43.98286\n",
      "Iteration #760: W_new = [44.90091319  3.84180128], MSE = 43.9812\n",
      "Iteration #770: W_new = [44.91070098  3.84002641], MSE = 43.97974\n",
      "Iteration #780: W_new = [44.9198959   3.83835906], MSE = 43.97845\n",
      "Iteration #790: W_new = [44.92853385  3.8367927 ], MSE = 43.97731\n",
      "End of computation. Iteration #795.\n"
     ]
    }
   ],
   "source": [
    "n = X.shape[1]\n",
    "alpha = 1e-2 \n",
    "W = np.array([1, 0.5])\n",
    "print(f'Number of objects = {n} \\\n",
    "       \\nLearning rate = {alpha} \\\n",
    "       \\nInitial weights = {W} \\n')\n",
    "\n",
    "for i in range(1500):\n",
    "    y_pred = np.dot(W, X)\n",
    "    err = calc_mse(y, y_pred)\n",
    "    #W_prev = W.copy()\n",
    "    for k in range(W.shape[0]):\n",
    "        W[k] -= alpha * (1/n * 2 * np.sum(X[k] * (y_pred - y)))\n",
    "    #weight_dist = np.linalg.norm(W - W_prev, ord=2)\n",
    "    err_new =  calc_mse(y, np.dot(W, X))\n",
    "        \n",
    "    if i % 10 == 0:\n",
    "        #alpha /= 1.1\n",
    "        print(f'Iteration #{i}: W_new = {W}, MSE = {round(err,5)}')\n",
    "    # Уменьшаем шаг каждые 150 итераций\n",
    "    if i % 200 == 0:\n",
    "        alpha /= 1.1\n",
    "    # Выход из алгоритма при достижении определенного прироста ошибки\n",
    "    if err - err_new < 1e-4:\n",
    "        print(f'End of computation. Iteration #{i}.')\n",
    "        break\n"
   ]
  },
  {
   "cell_type": "code",
   "execution_count": 14,
   "metadata": {},
   "outputs": [
    {
     "name": "stdout",
     "output_type": "stream",
     "text": [
      "W:[45.0625  3.8125]\n",
      "Error MSE:43.96875\n"
     ]
    }
   ],
   "source": [
    "# Проверка получивщихся расчетов \n",
    "normal_eq_w = np.linalg.solve(X.dot(X.T), X.dot(np.array(y).T))\n",
    "print(f'W:{normal_eq_w}')\n",
    "print(f'Error MSE:{calc_mse(y, np.dot(normal_eq_w, X))}')"
   ]
  },
  {
   "cell_type": "markdown",
   "metadata": {},
   "source": [
    "*2. В этом коде мы избавляемся от итераций по весам, но тут есть ошибка, исправьте ее"
   ]
  },
  {
   "cell_type": "code",
   "execution_count": 7,
   "metadata": {},
   "outputs": [
    {
     "name": "stdout",
     "output_type": "stream",
     "text": [
      "Number of objects = 10        \n",
      "Learning rate = 0.01        \n",
      "Initial weights = [1.  0.5] \n",
      "\n",
      "Iteration #0: W_new = [2.08 4.27], MSE = 3047.75\n",
      "Iteration #10: W_new = [ 7.0011236 10.6169007], MSE = 738.65\n",
      "Iteration #20: W_new = [10.3486292  10.10603105], MSE = 622.03\n",
      "Iteration #30: W_new = [13.38789582  9.55618391], MSE = 525.24\n",
      "Iteration #40: W_new = [16.16088505  9.05336203], MSE = 444.66\n",
      "Iteration #50: W_new = [18.69110735  8.59454545], MSE = 377.58\n",
      "Iteration #60: W_new = [20.99981865  8.17589626], MSE = 321.72\n",
      "Iteration #70: W_new = [23.10641138  7.79389815], MSE = 275.22\n",
      "Iteration #80: W_new = [25.02858024  7.44534246], MSE = 236.5\n",
      "Iteration #90: W_new = [26.78247081  7.12730145], MSE = 204.27\n"
     ]
    }
   ],
   "source": [
    "n = X.shape[1]\n",
    "alpha = 1e-2\n",
    "W = np.array([1, 0.5])\n",
    "print(f'Number of objects = {n} \\\n",
    "       \\nLearning rate = {alpha} \\\n",
    "       \\nInitial weights = {W} \\n')\n",
    "\n",
    "for i in range(100):\n",
    "    y_pred = np.dot(W, X)\n",
    "    err = calc_mse(y, y_pred)\n",
    "#     for k in rane(W.shape[0]):\n",
    "#         W[k] -= alpha * (1/n * 2 * np.sum(X[k] * (y_pred - y)))\n",
    "    W -= alpha * (1/n * 2 * np.dot(X, (y_pred - y)))\n",
    "    W_pred = W\n",
    "    if i % 10 == 0:\n",
    "        print(f'Iteration #{i}: W_new = {W}, MSE = {round(err,2)}')"
   ]
  }
 ],
 "metadata": {
  "kernelspec": {
   "display_name": "Python 3",
   "language": "python",
   "name": "python3"
  },
  "language_info": {
   "codemirror_mode": {
    "name": "ipython",
    "version": 3
   },
   "file_extension": ".py",
   "mimetype": "text/x-python",
   "name": "python",
   "nbconvert_exporter": "python",
   "pygments_lexer": "ipython3",
   "version": "3.7.6"
  }
 },
 "nbformat": 4,
 "nbformat_minor": 4
}
