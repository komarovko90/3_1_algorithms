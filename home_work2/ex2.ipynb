{
 "cells": [
  {
   "cell_type": "markdown",
   "metadata": {},
   "source": [
    "## Д/з"
   ]
  },
  {
   "cell_type": "markdown",
   "metadata": {},
   "source": [
    "#### * Постройте график зависимости весов всех признаков от lambda в L2-регуляризации (на данных из урока). Сделайте вывод"
   ]
  },
  {
   "cell_type": "code",
   "execution_count": 2,
   "metadata": {},
   "outputs": [],
   "source": [
    "import numpy as np\n",
    "import matplotlib.pyplot as plt\n",
    "\n",
    "%matplotlib inline"
   ]
  },
  {
   "cell_type": "code",
   "execution_count": 3,
   "metadata": {},
   "outputs": [],
   "source": [
    "X = np.array([[1, 1, 1, 1, 1, 1, 1, 1, 1, 1],\n",
    "              [1, 1, 2, 5, 3, 0, 5, 10, 1, 2],\n",
    "              [500, 700, 750, 600, 1450, 800, 1500, 2000, 450, 1000],\n",
    "              [1, 1, 2, 1, 2, 1, 3, 3, 1, 2]])\n",
    "y = [45, 55, 50, 55, 60, 35, 75, 80, 50, 60]"
   ]
  },
  {
   "cell_type": "markdown",
   "metadata": {},
   "source": [
    "Стандартизация"
   ]
  },
  {
   "cell_type": "code",
   "execution_count": 4,
   "metadata": {},
   "outputs": [],
   "source": [
    "X_st = X.copy().astype(np.float64)"
   ]
  },
  {
   "cell_type": "code",
   "execution_count": 5,
   "metadata": {},
   "outputs": [],
   "source": [
    "def calc_std_fit(x):\n",
    "    res = (x - x.mean()) / x.std()\n",
    "    return res"
   ]
  },
  {
   "cell_type": "code",
   "execution_count": 6,
   "metadata": {},
   "outputs": [],
   "source": [
    "X_st[1] = calc_std_fit(X[1])\n",
    "X_st[2] = calc_std_fit(X[2])\n",
    "X_st[3] = calc_std_fit(X[3])"
   ]
  },
  {
   "cell_type": "markdown",
   "metadata": {},
   "source": [
    "L2 регуляризация"
   ]
  },
  {
   "cell_type": "code",
   "execution_count": 7,
   "metadata": {},
   "outputs": [],
   "source": [
    "def calc_mse(y, y_pred):\n",
    "    err = np.mean((y - y_pred)**2)\n",
    "    return err"
   ]
  },
  {
   "cell_type": "code",
   "execution_count": 8,
   "metadata": {},
   "outputs": [],
   "source": [
    "def eval_model_reg2(X, y, iterations, alpha=1e-4, lambda_=1e-8):\n",
    "    np.random.seed(42)\n",
    "    W = np.random.randn(X.shape[0])\n",
    "    n = X.shape[1]\n",
    "    for i in range(1, iterations+1):\n",
    "        y_pred = np.dot(W, X)\n",
    "        err = calc_mse(y, y_pred)\n",
    "        W -= alpha * (1/n * 2 * np.dot((y_pred - y), X.T) + lambda_ * W) \n",
    "#         if i % (iterations / 10) == 0:\n",
    "#             print(i, W, err)\n",
    "    return W"
   ]
  },
  {
   "cell_type": "code",
   "execution_count": 9,
   "metadata": {},
   "outputs": [
    {
     "name": "stdout",
     "output_type": "stream",
     "text": [
      "Labmda: 0.01, W = [56.21890547  6.23067581 -0.16462974  6.42092637], MSE = 24.990883073277054\n",
      "Labmda: 0.01269, W = [56.14377867  6.21197702 -0.11614592  6.38286989], MSE = 25.042922067566536\n",
      "Labmda: 0.016103, W = [56.04873426  6.1886895  -0.05635143  6.33593623], MSE = 25.12611493174495\n",
      "Labmda: 0.020434, W = [5.59285889e+01 6.15981923e+00 1.68682849e-02 6.27846332e+00], MSE = 25.258880782175805\n",
      "Labmda: 0.025929, W = [55.77686857  6.12422529  0.10574603  6.20869139], MSE = 25.470311320764672\n",
      "Labmda: 0.032903, W = [55.58552239  6.08063188  0.21248629  6.12487218], MSE = 25.806158442681216\n",
      "Labmda: 0.041753, W = [55.34459336  6.02765828  0.33904097  6.02543372], MSE = 26.338010110325268\n",
      "Labmda: 0.052983, W = [55.04185407  5.96387104  0.4868032   5.90920006], MSE = 27.177205881730167\n",
      "Labmda: 0.067234, W = [54.66242487  5.88785921  0.65623495  5.77564802], MSE = 28.495667802031136\n",
      "Labmda: 0.085317, W = [54.18840955  5.79832879  0.84647255  5.62515876], MSE = 30.556566201402905\n",
      "Labmda: 0.108264, W = [53.59860886  5.69420586  1.05498659  5.45919655], MSE = 33.75846730993868\n",
      "Labmda: 0.137382, W = [52.86840627  5.57473194  1.27739213  5.2803332 ], MSE = 38.69696358962109\n",
      "Labmda: 0.174333, W = [51.96996326  5.43953266  1.50749788  5.09204983], MSE = 46.24703599628348\n",
      "Labmda: 0.221222, W = [50.87290639  5.288643    1.73763605  4.89829666], MSE = 57.66629786698187\n",
      "Labmda: 0.280722, W = [49.54572228  5.12247959  1.95923854  4.70286776], MSE = 74.7121206544044\n",
      "Labmda: 0.356225, W = [47.95807281  4.94175966  2.1635498   4.5087238 ], MSE = 99.75281173234934\n",
      "Labmda: 0.452035, W = [46.08416403  4.74737562  2.34232971  4.31743376], MSE = 135.83433755068035\n",
      "Labmda: 0.573615, W = [43.90710692  4.54024441  2.48842094  4.1288849 ], MSE = 186.64328699004315\n",
      "Labmda: 0.727895, W = [41.42387595  4.321164    2.59612153  3.94133748], MSE = 256.29416325260365\n",
      "Labmda: 0.923671, W = [38.65004151  4.09072334  2.66137934  3.75180908], MSE = 348.881829528876\n",
      "Labmda: 1.172102, W = [35.623063    3.84931697  2.68187492  3.55670098], MSE = 467.79532014381857\n",
      "Labmda: 1.487352, W = [32.40280778  3.59730066  2.65706683  3.35254345], MSE = 614.8887846131162\n",
      "Labmda: 1.887392, W = [29.068333    3.33528485  2.58824349  3.1367341 ], MSE = 789.7170871977567\n",
      "Labmda: 2.395027, W = [25.71087954  3.06450758  2.47857398  2.90815592], MSE = 989.1026750269511\n",
      "Labmda: 3.039195, W = [22.42421487  2.78717923  2.33309884  2.66757632], MSE = 1207.2448067793596\n",
      "Labmda: 3.85662, W = [19.29440392  2.50667168  2.15857434  2.41774843], MSE = 1436.4086339319442\n",
      "Labmda: 4.893901, W = [16.39130027  2.22745129  1.96309777  2.16317447], MSE = 1668.0185958488273\n",
      "Labmda: 6.210169, W = [13.76341878  1.95472799  1.75550153  1.90955572], MSE = 1893.8430174008408\n",
      "Labmda: 7.880463, W = [11.43671123  1.69388691  1.54458889  1.66303344], MSE = 2106.9621828484132\n",
      "Labmda: 10.0, W = [9.41666667 1.44984507 1.33835494 1.42938586], MSE = 2302.3365023435517\n"
     ]
    }
   ],
   "source": [
    "lambd = np.logspace(-2, 1, 30)\n",
    "w_list = []\n",
    "for i in range(len(lambd)):\n",
    "    W = eval_model_reg2(X_st, y, iterations=5000, alpha=1e-2, lambda_=lambd[i])\n",
    "    w_list.append(W.copy())\n",
    "    print(f'Labmda: {round(lambd[i], 6)}, W = {W}, MSE = {calc_mse(y, np.dot(W, X_st))}')\n",
    "w_list = np.array(w_list)"
   ]
  },
  {
   "cell_type": "code",
   "execution_count": 10,
   "metadata": {},
   "outputs": [
    {
     "data": {
      "text/plain": [
       "<matplotlib.legend.Legend at 0x16f3fe0b9c8>"
      ]
     },
     "execution_count": 10,
     "metadata": {},
     "output_type": "execute_result"
    },
    {
     "data": {
      "image/png": "[encoded data removed]",
      "text/plain": [
       "<Figure size 432x288 with 1 Axes>"
      ]
     },
     "metadata": {
      "needs_background": "light"
     },
     "output_type": "display_data"
    }
   ],
   "source": [
    "plt.xlabel('lambda')\n",
    "plt.ylabel('Вес признака')\n",
    "\n",
    "plt.plot(lambd, w_list[:, 0], color='g')\n",
    "plt.plot(lambd, w_list[:, 1],  color='r')\n",
    "plt.plot(lambd, w_list[:, 2],  color='b')\n",
    "plt.plot(lambd, w_list[:, 3], color='y')\n",
    "\n",
    "plt.legend(['W0', 'W1', 'W2', 'W3'])"
   ]
  },
  {
   "cell_type": "markdown",
   "metadata": {},
   "source": [
    "Выводы. \\\n",
    "Чем больше lambda, тем больше она накладывает ограничения на веса, тем самым, модель не будет достаточно обучаться тренировочным данным. И, наоборот, чем меньше lambda, тем больше возрастает риск переробучения.  "
   ]
  },
  {
   "cell_type": "code",
   "execution_count": 18,
   "metadata": {},
   "outputs": [
    {
     "name": "stdout",
     "output_type": "stream",
     "text": [
      "24.904618876908398\n"
     ]
    }
   ],
   "source": [
    "# Проверка \n",
    "def normal_equation(X, y):\n",
    "    return np.linalg.solve((X).dot(X.T), X.dot(y))\n",
    "\n",
    "normal_eq_w = normal_equation(X, y)\n",
    "print(calc_mse(y, np.dot(X.T, normal_eq_w)))"
   ]
  },
  {
   "cell_type": "markdown",
   "metadata": {},
   "source": [
    "#### * Можно ли к одному и тому же признаку применить сразу и нормализацию, и стандартизаци"
   ]
  },
  {
   "cell_type": "markdown",
   "metadata": {},
   "source": [
    "Можно, но дополнительных результатов это не даст. В любом случае получится один и тот же результат что и при отдельной нормализации или стандартизации."
   ]
  },
  {
   "cell_type": "markdown",
   "metadata": {},
   "source": [
    "#### * Напишите функцию наподобие eval_model_reg2, но для применения L1-регуляризации."
   ]
  },
  {
   "cell_type": "code",
   "execution_count": 17,
   "metadata": {},
   "outputs": [],
   "source": [
    "def eval_model_reg1(X, y, iterations, alpha=1e-4, lambda_=1e-8):\n",
    "    np.random.seed(42)\n",
    "    W = np.random.randn(X.shape[0])\n",
    "    n = X.shape[1]\n",
    "    for i in range(1, iterations+1):\n",
    "        y_pred = np.dot(W, X)\n",
    "        err = calc_mse(y, y_pred)\n",
    "        W -= alpha * (1/n * 2 * np.dot((y_pred - y), X.T) + lambda_ * np.sign(W)) \n",
    "#         if i % (iterations / 10) == 0:\n",
    "#             print(i, W, err)\n",
    "    return W"
   ]
  },
  {
   "cell_type": "code",
   "execution_count": 26,
   "metadata": {},
   "outputs": [
    {
     "name": "stdout",
     "output_type": "stream",
     "text": [
      "Labmda: 0.01, W = [56.495       6.28284243 -0.2967339   6.52797166], MSE = 24.90526210908332\n",
      "Labmda: 0.013848, W = [56.49307612  6.27506129 -0.27383307  6.5112758 ], MSE = 24.90585084837094\n",
      "Labmda: 0.019176, W = [56.49041199  6.26428617 -0.24212064  6.48815582], MSE = 24.90697924095569\n",
      "Labmda: 0.026554, W = [56.48672276  6.24936502 -0.19820593  6.45613975], MSE = 24.909142261565883\n",
      "Labmda: 0.036772, W = [56.481614    6.22870254 -0.13739371  6.41180451], MSE = 24.91328899364181\n",
      "Labmda: 0.050921, W = [ 5.64745395e+01  6.20008986e+00 -5.31834888e-02  6.35041102e+00], MSE = 24.921239157324358\n",
      "Labmda: 0.070514, W = [ 5.64647430e+01  6.17906798e+00 -6.31126254e-04  6.30887198e+00], MSE = 24.92826760347017\n",
      "Labmda: 0.097646, W = [5.64511769e+01 6.17114404e+00 5.92547691e-04 6.30085593e+00], MSE = 24.930784227922604\n",
      "Labmda: 0.135218, W = [ 5.64323910e+01  6.16013091e+00 -6.14334714e-04  6.28969491e+00], MSE = 24.935545132190008\n",
      "Labmda: 0.187247, W = [5.64063767e+01 6.14491085e+00 5.29607855e-04 6.27422811e+00], MSE = 24.944664567423263\n",
      "Labmda: 0.259294, W = [ 5.63703528e+01  6.12378774e+00 -2.55062092e-04  6.25286565e+00], MSE = 24.962334861083885\n",
      "Labmda: 0.359064, W = [5.63204678e+01 6.09462728e+00 5.82789440e-03 6.22334982e+00], MSE = 24.99470917421124\n",
      "Labmda: 0.497224, W = [5.62513882e+01 6.05417159e+00 6.79499327e-03 6.18240384e+00], MSE = 25.05838756083266\n",
      "Labmda: 0.688543, W = [5.61557285e+01 5.99812266e+00 1.58684795e-03 6.12566184e+00], MSE = 25.1844086182259\n",
      "Labmda: 0.953477, W = [5.60232614e+01 5.92061935e+00 1.18249619e-02 6.04722102e+00], MSE = 25.414237620732326\n",
      "Labmda: 1.320352, W = [5.58398241e+01 5.81326413e+00 1.86182951e-02 5.93851572e+00], MSE = 25.859751509078546\n",
      "Labmda: 1.828391, W = [5.55858047e+01 5.66418507e+00 2.23879818e-02 5.78768488e+00], MSE = 26.72326360775397\n",
      "Labmda: 2.53191, W = [5.52340450e+01 5.45876619e+00 9.78695841e-03 5.57987509e+00], MSE = 28.4184692729393\n",
      "Labmda: 3.506127, W = [5.47469367e+01 5.17454333e+00 8.98503943e-03 5.29255894e+00], MSE = 31.632102925731704\n",
      "Labmda: 4.855197, W = [ 5.40724013e+01  4.78309602e+00 -5.50110165e-04  4.89725071e+00], MSE = 37.81452750847892\n",
      "Labmda: 6.723358, W = [53.13832123  4.23002502  0.06433139  4.33727921], MSE = 49.33842250014375\n",
      "Labmda: 9.310339, W = [5.18448303e+01 3.47945529e+00 2.38373147e-02 3.57909673e+00], MSE = 72.175675291015\n",
      "Labmda: 12.892728, W = [50.05363589  2.42284526  0.15910351  2.5102319 ], MSE = 114.23648535825915\n",
      "Labmda: 17.853532, W = [47.57323417  0.97070591  0.21371678  1.04260786], MSE = 196.2428020919719\n",
      "Labmda: 24.72313, W = [ 4.41384351e+01 -2.78942865e-02  1.32635813e-01 -1.68606461e-02], MSE = 311.26472802300503\n",
      "Labmda: 34.23598, W = [39.38201021  0.4694147   0.41561516  0.11066919], MSE = 432.94719412979157\n",
      "Labmda: 47.409139, W = [32.79543046  0.40636992  0.66482644 -0.2622288 ], MSE = 705.8189696284287\n",
      "Labmda: 65.651005, W = [23.67449746  0.30145152  0.30986398  0.82230713], MSE = 1208.8215609809517\n",
      "Labmda: 90.911891, W = [11.04405468  0.25012026 -0.58143613 -0.67768908], MSE = 2248.99215781596\n",
      "Labmda: 125.892541, W = [ 1.78638025 -0.24322371  0.90728506  0.47380528], MSE = 3131.2387827974226\n"
     ]
    }
   ],
   "source": [
    "lambd = np.logspace(-2, 2.1, 30)\n",
    "w_list = []\n",
    "for i in range(len(lambd)):\n",
    "    W = eval_model_reg1(X_st, y, iterations=5000, alpha=1e-2, lambda_=lambd[i])\n",
    "    w_list.append(W.copy())\n",
    "    print(f'Labmda: {round(lambd[i], 6)}, W = {W}, MSE = {calc_mse(y, np.dot(W, X_st))}')\n",
    "w_list = np.array(w_list)"
   ]
  },
  {
   "cell_type": "code",
   "execution_count": 27,
   "metadata": {},
   "outputs": [
    {
     "data": {
      "text/plain": [
       "<matplotlib.legend.Legend at 0x16f40196d88>"
      ]
     },
     "execution_count": 27,
     "metadata": {},
     "output_type": "execute_result"
    },
    {
     "data": {
      "image/png": "[encoded data removed]",
      "text/plain": [
       "<Figure size 432x288 with 1 Axes>"
      ]
     },
     "metadata": {
      "needs_background": "light"
     },
     "output_type": "display_data"
    }
   ],
   "source": [
    "plt.xlabel('lambda')\n",
    "plt.ylabel('Вес признака')\n",
    "\n",
    "plt.plot(lambd, w_list[:, 0], color='g')\n",
    "plt.plot(lambd, w_list[:, 1],  color='r')\n",
    "plt.plot(lambd, w_list[:, 2],  color='b')\n",
    "plt.plot(lambd, w_list[:, 3], color='y')\n",
    "\n",
    "plt.legend(['W0', 'W1', 'W2', 'W3'])"
   ]
  }
 ],
 "metadata": {
  "kernelspec": {
   "display_name": "Python 3",
   "language": "python",
   "name": "python3"
  },
  "language_info": {
   "codemirror_mode": {
    "name": "ipython",
    "version": 3
   },
   "file_extension": ".py",
   "mimetype": "text/x-python",
   "name": "python",
   "nbconvert_exporter": "python",
   "pygments_lexer": "ipython3",
   "version": "3.7.6"
  }
 },
 "nbformat": 4,
 "nbformat_minor": 4
}
